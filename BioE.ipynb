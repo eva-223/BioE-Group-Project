{
  "nbformat": 4,
  "nbformat_minor": 0,
  "metadata": {
    "colab": {
      "provenance": [],
      "include_colab_link": true
    },
    "kernelspec": {
      "name": "python3",
      "display_name": "Python 3"
    },
    "language_info": {
      "name": "python"
    }
  },
  "cells": [
    {
      "cell_type": "markdown",
      "metadata": {
        "id": "view-in-github",
        "colab_type": "text"
      },
      "source": [
        "<a href=\"https://colab.research.google.com/github/eva-223/BioE-Group-Project/blob/main/BioE.ipynb\" target=\"_parent\"><img src=\"https://colab.research.google.com/assets/colab-badge.svg\" alt=\"Open In Colab\"/></a>"
      ]
    },
    {
      "cell_type": "code",
      "execution_count": 17,
      "metadata": {
        "id": "qoge1tiv8YXu",
        "colab": {
          "base_uri": "https://localhost:8080/"
        },
        "outputId": "2fe7a936-d9ff-4ca6-c34a-cc09db3fcf54"
      },
      "outputs": [
        {
          "output_type": "stream",
          "name": "stdout",
          "text": [
            "([84.26, 99.89, 62.39, 36.37, 12.92, 96.07, 74.89], [78.17, 101.03, 66.7, 36.78, 13.98, 96.53, 78.14], [68.01, 109.1, 61.46, 36.58, 14.03, 97.38, 77.35])\n",
            "([84.0, 100.0, 62.0, 36.3, 12.7, 96.1, 74.6], [78.0, 101.0, 67.0, 36.8, 13.9, 96.5, 78.0], [68.0, 109.0, 61.0, 36.6, 14.0, 97.5, 77.0])\n",
            "([5.26, 2.55, 2.13, 0.17, 0.93, 0.57, 1.89], [5.24, 3.65, 2.52, 0.14, 1.14, 0.59, 2.27], [4.24, 2.51, 1.8, 0.14, 1.16, 0.77, 1.68])\n",
            "   heart_rate  systolic_bp  diastolic_bp  body_temperature  respiratory_rate  \\\n",
            "1       84.26        99.89         62.39             36.37             12.92   \n",
            "2       84.00       100.00         62.00             36.30             12.70   \n",
            "3        5.26         2.55          2.13              0.17              0.93   \n",
            "\n",
            "   blood_oxygen  mean_arterial_pressure  \n",
            "1         96.07                   74.89  \n",
            "2         96.10                   74.60  \n",
            "3          0.57                    1.89  \n"
          ]
        }
      ],
      "source": [
        "import math\n",
        "import matplotlib.pyplot as plt\n",
        "import pandas as pd\n",
        "\n",
        "df1 = pd.read_csv(\"patient_1_vitals.csv\")\n",
        "df2 = pd.read_csv(\"patient_2_vitals.csv\")\n",
        "df3 = pd.read_csv(\"patient_3_vitals.csv\")\n",
        "\n",
        "column_names = df1.columns.tolist()\n",
        "column_names.pop(0)\n",
        "column_names.pop(0)\n",
        "\n",
        "def find_mean():\n",
        "\n",
        "    p1_means = []\n",
        "    p2_means = []\n",
        "    p3_means = []\n",
        "\n",
        "    for i in column_names:\n",
        "        p1_means.append(float(round(df1[i].mean(), 2)))\n",
        "        p2_means.append(float(round(df2[i].mean(), 2)))\n",
        "        p3_means.append(float(round(df3[i].mean(), 2)))\n",
        "    return p1_means, p2_means,  p3_means\n",
        "\n",
        "print(find_mean())\n",
        "\n",
        "def find_median():\n",
        "    p1_median = []\n",
        "    p2_median = []\n",
        "    p3_median = []\n",
        "\n",
        "    for i in column_names:\n",
        "        p1_median.append(round(df1[i].median(), 2))\n",
        "        p2_median.append(round(df2[i].median(), 2))\n",
        "        p3_median.append(round(df3[i].median(), 2))\n",
        "    return p1_median, p2_median, p3_median\n",
        "\n",
        "print(find_median())\n",
        "\n",
        "\n",
        "def find_standard_deviation():\n",
        "    p1_std = []\n",
        "    p2_std = []\n",
        "    p3_std = []\n",
        "\n",
        "    for i in column_names:\n",
        "        p1_std.append(round(df1[i].std(),2))\n",
        "        p2_std.append(round(df2[i].std(),2))\n",
        "        p3_std.append(round(df3[i].std(),2))\n",
        "\n",
        "    return (p1_std, p2_std, p3_std)\n",
        "print(find_standard_deviation())\n",
        "\n",
        "\n",
        "stat = pd.DataFrame()\n",
        "p1_means, p2_means,  p3_means =  find_mean()\n",
        "p1_median, p2_median, p3_median = find_median()\n",
        "p1_std, p2_std, p3_std = find_standard_deviation()\n",
        "\n",
        "# how should we organize the table?\n",
        "\n",
        "\n"
      ]
    }
  ]
}